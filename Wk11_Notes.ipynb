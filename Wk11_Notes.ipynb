{
 "cells": [
  {
   "cell_type": "markdown",
   "id": "50794fa9",
   "metadata": {},
   "source": [
    "#### Week 11 - In Class Notes"
   ]
  },
  {
   "cell_type": "markdown",
   "id": "063994a1",
   "metadata": {},
   "source": [
    "Warm-up\n",
    "resursion - when a function calls on itself"
   ]
  },
  {
   "cell_type": "code",
   "execution_count": 3,
   "id": "b271e968",
   "metadata": {},
   "outputs": [],
   "source": [
    "#define a recusrive function that multiplies a number by 2 \n",
    "#until the square of the original number is reached or just passed\n",
    "def numprod(x):\n",
    "    if x>=num**2:\n",
    "        print(x, 'is the square of', num)\n",
    "    else:\n",
    "        y=x*2\n",
    "        print(y)\n",
    "        numprod(y)"
   ]
  },
  {
   "cell_type": "code",
   "execution_count": 4,
   "id": "f86a9ebb",
   "metadata": {},
   "outputs": [
    {
     "name": "stdout",
     "output_type": "stream",
     "text": [
      "10\n",
      "20\n",
      "40\n",
      "40 is the square of 5\n"
     ]
    }
   ],
   "source": [
    "num = 5  #use a global variable to refer back to\n",
    "numprod(5)"
   ]
  },
  {
   "cell_type": "markdown",
   "id": "e6173abf",
   "metadata": {},
   "source": [
    "Time Series Analysis\n",
    "Time series data, sequence of data taken at points in time (ideally equally spaced)\n",
    "stochastic - random; processes generating timeseries data, where the values evolve in time based on laws of probability\n",
    "\n",
    "Many stastic models for analyzing timeseries data: SES, ARMA, ARIMA, SARIMA, ARCH, GARCH\n",
    "\n",
    "Exponential smoothing (ES)\n",
    "Autoregression(AR)\n",
    "Order of integration(I)\n",
    "Moving Average (MA)\n",
    "Seasonality(S)"
   ]
  },
  {
   "cell_type": "markdown",
   "id": "32ba73f6",
   "metadata": {},
   "source": [
    "Exponential smoothing (ES)\n",
    "-used when there is no clear trend or pattern\n",
    "-controls rate vy which the influense of recent values decays exponentially\n",
    "-damping factor(alpha) - a value from 0-1 with 1 indicating more attention is paid to recent values and 0 indicating more attention is paid to the history of values"
   ]
  },
  {
   "cell_type": "markdown",
   "id": "a7b3f1fa",
   "metadata": {},
   "source": [
    "Autoregression(AR)\n",
    "-autoregressive models use input from previous steps in time, where the past steps are input into a regression model to predict the next step\n",
    "-assumption is that past events are useful for predicting future ones, that there is some correlation between past and future\n",
    "-lag (or backshift) - past series values, important to consider how many are relevant and what spacing makes sense\n",
    "-AR(1) looks at the most recent past value, AR(2) looks at the past two values, etc."
   ]
  },
  {
   "cell_type": "markdown",
   "id": "327e1d5c",
   "metadata": {},
   "source": [
    "Order of Integration (I)\n",
    "-used to make a series stationary\n",
    "stationarty - statistival processs that govern the way a timeseries changes over time do not themselves change\n",
    "-subtract an observation from the observation at the previous time step\n",
    "-decompositioin, the number of times a timeseries has been differenced"
   ]
  },
  {
   "cell_type": "markdown",
   "id": "32021fff",
   "metadata": {},
   "source": [
    "Moving Average (MA)\n",
    "-helps smooth out data over a particular time period by creating a constantly averaged value\n",
    "-calculated by adding up all the calues over a chosen period and dividing by the number of values"
   ]
  },
  {
   "cell_type": "markdown",
   "id": "09bc2aae",
   "metadata": {},
   "source": [
    "Seasonality(S)\n",
    "-pattern that occurs at a regular intervalk\n",
    "-can be additive or multiplicative\n",
    "-can decompose the data to understand the seasonality component"
   ]
  },
  {
   "cell_type": "markdown",
   "id": "bb0f5c92",
   "metadata": {},
   "source": [
    "Parsimony the simplist answer is the most correct\n",
    "\n",
    "Autocorrelation - how well does the time series correlate with a lagged copy of itself, related to autoregression; how well do past values correlate with future values in a specific time frame"
   ]
  },
  {
   "cell_type": "code",
   "execution_count": 1,
   "id": "b6ae43ba",
   "metadata": {},
   "outputs": [],
   "source": [
    "from statsmodels.graphics.tsaplots import plot_acf, plot_pacf"
   ]
  },
  {
   "cell_type": "code",
   "execution_count": null,
   "id": "dce34378",
   "metadata": {},
   "outputs": [],
   "source": []
  }
 ],
 "metadata": {
  "kernelspec": {
   "display_name": "Python 3 (ipykernel)",
   "language": "python",
   "name": "python3"
  },
  "language_info": {
   "codemirror_mode": {
    "name": "ipython",
    "version": 3
   },
   "file_extension": ".py",
   "mimetype": "text/x-python",
   "name": "python",
   "nbconvert_exporter": "python",
   "pygments_lexer": "ipython3",
   "version": "3.9.7"
  }
 },
 "nbformat": 4,
 "nbformat_minor": 5
}
