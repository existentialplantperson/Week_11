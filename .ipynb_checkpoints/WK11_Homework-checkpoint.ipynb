{
 "cells": [
  {
   "cell_type": "markdown",
   "id": "e57d22c8",
   "metadata": {},
   "source": [
    "### Week 1 Homework\n",
    "##### Angela Spencer - 12/8/2021"
   ]
  },
  {
   "cell_type": "markdown",
   "id": "3624cf34",
   "metadata": {},
   "source": [
    "#### 1.\tWhat scale of measurement applies to timeseries data? Is timeseries data continuous or discrete? Why?"
   ]
  },
  {
   "cell_type": "markdown",
   "id": "eddb04a6",
   "metadata": {},
   "source": [
    "Timeseries data is measured in an interval scale, it is numeric and the values have specific order and spacing such as hours, days, or years. Timeseries data is usually discrete because observations are made at specific intervals rather than constantly."
   ]
  },
  {
   "cell_type": "markdown",
   "id": "16489bbb",
   "metadata": {},
   "source": [
    "#### 2.\tWhat does ARIMA stand for? Break down and explain each piece in the name."
   ]
  },
  {
   "cell_type": "raw",
   "id": "542e1be4",
   "metadata": {},
   "source": [
    "ARIMA stands for AutoRegression, order of Integration, Moving Average - it is a linear regression model that performs three types of analysis on the data:\n",
    "-Autoregression: uses past events to predict future ones by finding correlations between lags  \n",
    "-Order of Integration: used to make a series stationay\n",
    "-Moving Average: creates a average value that is constantly adjusting based on new information"
   ]
  },
  {
   "cell_type": "markdown",
   "id": "b7beae52",
   "metadata": {},
   "source": [
    "#### 3.\tUsing the data in the temperatures/ folder. Write a function that efficiently converts every column to a different temperature scale: one that is more common than Kelvin."
   ]
  },
  {
   "cell_type": "code",
   "execution_count": 1,
   "id": "a37a05b5",
   "metadata": {},
   "outputs": [],
   "source": [
    "import pandas as pd\n",
    "import numpy as np\n",
    "import os\n",
    "import matplotlib.pyplot as plt"
   ]
  },
  {
   "cell_type": "code",
   "execution_count": 2,
   "id": "be386b93",
   "metadata": {},
   "outputs": [
    {
     "data": {
      "text/plain": [
       "(45253, 36)"
      ]
     },
     "execution_count": 2,
     "metadata": {},
     "output_type": "execute_result"
    }
   ],
   "source": [
    "#import csv as dataframe, parse date to datetime, set index to date column\n",
    "kelvin_df = pd.read_csv('temperature.csv', parse_dates=True, index_col='datetime')\n",
    "kelvin_df.shape"
   ]
  },
  {
   "cell_type": "code",
   "execution_count": 3,
   "id": "c4d94301",
   "metadata": {},
   "outputs": [
    {
     "data": {
      "text/plain": [
       "(44430, 36)"
      ]
     },
     "execution_count": 3,
     "metadata": {},
     "output_type": "execute_result"
    }
   ],
   "source": [
    "#drop rows with NaN values\n",
    "kelvin_df_dropped = kelvin_df.dropna()\n",
    "kelvin_df_dropped.shape"
   ]
  },
  {
   "cell_type": "code",
   "execution_count": 5,
   "id": "d9df5809",
   "metadata": {},
   "outputs": [
    {
     "name": "stdout",
     "output_type": "stream",
     "text": [
      "284.63\n",
      "11.48\n",
      "52.66\n"
     ]
    }
   ],
   "source": [
    "#define function that accepts df and converts kelvin values to celsius, returning a new df\n",
    "celsius_conversion = round(kelvin_df_dropped.apply(lambda num: num-273.15),2)\n",
    "\n",
    "fahrenheit_conversion = round(kelvin_df_dropped.apply(lambda x: (x-273.15)*9/5+32),2)\n",
    "\n",
    "print(kelvin_df_dropped.iloc[0,0])\n",
    "print(celsius_conversion.iloc[0,0])\n",
    "print(fahrenheit_conversion.iloc[0,0])"
   ]
  },
  {
   "cell_type": "markdown",
   "id": "6b296dbc",
   "metadata": {},
   "source": [
    "#### 4.\tWrite a function that efficiently fills in missing values in every column, excluding trailing NANs. That is: if there's temperature data on either side of a timestamp, it should interpolate through it. But if data stopped being collected, your function should leave nans at the end."
   ]
  },
  {
   "cell_type": "code",
   "execution_count": 14,
   "id": "0d43cf76",
   "metadata": {},
   "outputs": [
    {
     "name": "stdout",
     "output_type": "stream",
     "text": [
      "7955\n",
      "8030\n"
     ]
    }
   ],
   "source": [
    "#use .interpolate to fill non-trailing NaNs\n",
    "kelvin_df_interpolate = kelvin_df.interpolate(limit_area='inside')\n",
    "\n",
    "#print total number of NaNs in new df and before interpolation\n",
    "print(kelvin_df_interpolate.isna().sum().sum())\n",
    "print(kelvin_df.isna().sum().sum())"
   ]
  },
  {
   "cell_type": "markdown",
   "id": "d5d13939",
   "metadata": {},
   "source": [
    "#### 5.\tFind all cities A and B where city A is warmer than city B in the summer, but also colder than city B in the winter, on average."
   ]
  },
  {
   "cell_type": "code",
   "execution_count": 45,
   "id": "44a94d4f",
   "metadata": {},
   "outputs": [
    {
     "data": {
      "text/html": [
       "<div>\n",
       "<style scoped>\n",
       "    .dataframe tbody tr th:only-of-type {\n",
       "        vertical-align: middle;\n",
       "    }\n",
       "\n",
       "    .dataframe tbody tr th {\n",
       "        vertical-align: top;\n",
       "    }\n",
       "\n",
       "    .dataframe thead th {\n",
       "        text-align: right;\n",
       "    }\n",
       "</style>\n",
       "<table border=\"1\" class=\"dataframe\">\n",
       "  <thead>\n",
       "    <tr style=\"text-align: right;\">\n",
       "      <th></th>\n",
       "      <th>Vancouver</th>\n",
       "      <th>Portland</th>\n",
       "      <th>San Francisco</th>\n",
       "      <th>Seattle</th>\n",
       "      <th>Los Angeles</th>\n",
       "      <th>San Diego</th>\n",
       "      <th>Las Vegas</th>\n",
       "      <th>Phoenix</th>\n",
       "      <th>Albuquerque</th>\n",
       "      <th>Denver</th>\n",
       "      <th>...</th>\n",
       "      <th>Philadelphia</th>\n",
       "      <th>New York</th>\n",
       "      <th>Montreal</th>\n",
       "      <th>Boston</th>\n",
       "      <th>Beersheba</th>\n",
       "      <th>Tel Aviv District</th>\n",
       "      <th>Eilat</th>\n",
       "      <th>Haifa</th>\n",
       "      <th>Nahariyya</th>\n",
       "      <th>Jerusalem</th>\n",
       "    </tr>\n",
       "    <tr>\n",
       "      <th>datetime</th>\n",
       "      <th></th>\n",
       "      <th></th>\n",
       "      <th></th>\n",
       "      <th></th>\n",
       "      <th></th>\n",
       "      <th></th>\n",
       "      <th></th>\n",
       "      <th></th>\n",
       "      <th></th>\n",
       "      <th></th>\n",
       "      <th></th>\n",
       "      <th></th>\n",
       "      <th></th>\n",
       "      <th></th>\n",
       "      <th></th>\n",
       "      <th></th>\n",
       "      <th></th>\n",
       "      <th></th>\n",
       "      <th></th>\n",
       "      <th></th>\n",
       "      <th></th>\n",
       "    </tr>\n",
       "  </thead>\n",
       "  <tbody>\n",
       "    <tr>\n",
       "      <th>2012-10-01 12:00:00</th>\n",
       "      <td>NaN</td>\n",
       "      <td>NaN</td>\n",
       "      <td>NaN</td>\n",
       "      <td>NaN</td>\n",
       "      <td>NaN</td>\n",
       "      <td>NaN</td>\n",
       "      <td>NaN</td>\n",
       "      <td>NaN</td>\n",
       "      <td>NaN</td>\n",
       "      <td>NaN</td>\n",
       "      <td>...</td>\n",
       "      <td>NaN</td>\n",
       "      <td>NaN</td>\n",
       "      <td>NaN</td>\n",
       "      <td>NaN</td>\n",
       "      <td>NaN</td>\n",
       "      <td>NaN</td>\n",
       "      <td>309.100000</td>\n",
       "      <td>NaN</td>\n",
       "      <td>NaN</td>\n",
       "      <td>NaN</td>\n",
       "    </tr>\n",
       "    <tr>\n",
       "      <th>2012-10-01 13:00:00</th>\n",
       "      <td>284.630000</td>\n",
       "      <td>282.080000</td>\n",
       "      <td>289.480000</td>\n",
       "      <td>281.800000</td>\n",
       "      <td>291.870000</td>\n",
       "      <td>291.530000</td>\n",
       "      <td>293.410000</td>\n",
       "      <td>296.600000</td>\n",
       "      <td>285.120000</td>\n",
       "      <td>284.610000</td>\n",
       "      <td>...</td>\n",
       "      <td>285.630000</td>\n",
       "      <td>288.220000</td>\n",
       "      <td>285.83000</td>\n",
       "      <td>287.170000</td>\n",
       "      <td>307.59</td>\n",
       "      <td>305.47</td>\n",
       "      <td>310.580000</td>\n",
       "      <td>304.4</td>\n",
       "      <td>304.4</td>\n",
       "      <td>303.5</td>\n",
       "    </tr>\n",
       "    <tr>\n",
       "      <th>2012-10-01 14:00:00</th>\n",
       "      <td>284.629041</td>\n",
       "      <td>282.083252</td>\n",
       "      <td>289.474993</td>\n",
       "      <td>281.797217</td>\n",
       "      <td>291.868185</td>\n",
       "      <td>291.533501</td>\n",
       "      <td>293.403141</td>\n",
       "      <td>296.608509</td>\n",
       "      <td>285.154558</td>\n",
       "      <td>284.607305</td>\n",
       "      <td>...</td>\n",
       "      <td>285.663208</td>\n",
       "      <td>288.247676</td>\n",
       "      <td>285.83465</td>\n",
       "      <td>287.186092</td>\n",
       "      <td>307.59</td>\n",
       "      <td>304.31</td>\n",
       "      <td>310.495769</td>\n",
       "      <td>304.4</td>\n",
       "      <td>304.4</td>\n",
       "      <td>303.5</td>\n",
       "    </tr>\n",
       "  </tbody>\n",
       "</table>\n",
       "<p>3 rows × 36 columns</p>\n",
       "</div>"
      ],
      "text/plain": [
       "                      Vancouver    Portland  San Francisco     Seattle  \\\n",
       "datetime                                                                 \n",
       "2012-10-01 12:00:00         NaN         NaN            NaN         NaN   \n",
       "2012-10-01 13:00:00  284.630000  282.080000     289.480000  281.800000   \n",
       "2012-10-01 14:00:00  284.629041  282.083252     289.474993  281.797217   \n",
       "\n",
       "                     Los Angeles   San Diego   Las Vegas     Phoenix  \\\n",
       "datetime                                                               \n",
       "2012-10-01 12:00:00          NaN         NaN         NaN         NaN   \n",
       "2012-10-01 13:00:00   291.870000  291.530000  293.410000  296.600000   \n",
       "2012-10-01 14:00:00   291.868185  291.533501  293.403141  296.608509   \n",
       "\n",
       "                     Albuquerque      Denver  ...  Philadelphia    New York  \\\n",
       "datetime                                      ...                             \n",
       "2012-10-01 12:00:00          NaN         NaN  ...           NaN         NaN   \n",
       "2012-10-01 13:00:00   285.120000  284.610000  ...    285.630000  288.220000   \n",
       "2012-10-01 14:00:00   285.154558  284.607305  ...    285.663208  288.247676   \n",
       "\n",
       "                      Montreal      Boston  Beersheba  Tel Aviv District  \\\n",
       "datetime                                                                   \n",
       "2012-10-01 12:00:00        NaN         NaN        NaN                NaN   \n",
       "2012-10-01 13:00:00  285.83000  287.170000     307.59             305.47   \n",
       "2012-10-01 14:00:00  285.83465  287.186092     307.59             304.31   \n",
       "\n",
       "                          Eilat  Haifa  Nahariyya  Jerusalem  \n",
       "datetime                                                      \n",
       "2012-10-01 12:00:00  309.100000    NaN        NaN        NaN  \n",
       "2012-10-01 13:00:00  310.580000  304.4      304.4      303.5  \n",
       "2012-10-01 14:00:00  310.495769  304.4      304.4      303.5  \n",
       "\n",
       "[3 rows x 36 columns]"
      ]
     },
     "execution_count": 45,
     "metadata": {},
     "output_type": "execute_result"
    }
   ],
   "source": [
    "kelvin_df.head(3)"
   ]
  },
  {
   "cell_type": "code",
   "execution_count": 53,
   "id": "f12a386e",
   "metadata": {},
   "outputs": [
    {
     "data": {
      "text/html": [
       "<div>\n",
       "<style scoped>\n",
       "    .dataframe tbody tr th:only-of-type {\n",
       "        vertical-align: middle;\n",
       "    }\n",
       "\n",
       "    .dataframe tbody tr th {\n",
       "        vertical-align: top;\n",
       "    }\n",
       "\n",
       "    .dataframe thead th {\n",
       "        text-align: right;\n",
       "    }\n",
       "</style>\n",
       "<table border=\"1\" class=\"dataframe\">\n",
       "  <thead>\n",
       "    <tr style=\"text-align: right;\">\n",
       "      <th></th>\n",
       "      <th>Summer Average</th>\n",
       "      <th>Winter Average</th>\n",
       "    </tr>\n",
       "  </thead>\n",
       "  <tbody>\n",
       "    <tr>\n",
       "      <th>Vancouver</th>\n",
       "      <td>64.618817</td>\n",
       "      <td>38.753053</td>\n",
       "    </tr>\n",
       "    <tr>\n",
       "      <th>Portland</th>\n",
       "      <td>67.117580</td>\n",
       "      <td>40.123098</td>\n",
       "    </tr>\n",
       "    <tr>\n",
       "      <th>San Francisco</th>\n",
       "      <td>65.733608</td>\n",
       "      <td>51.241873</td>\n",
       "    </tr>\n",
       "  </tbody>\n",
       "</table>\n",
       "</div>"
      ],
      "text/plain": [
       "               Summer Average  Winter Average\n",
       "Vancouver           64.618817       38.753053\n",
       "Portland            67.117580       40.123098\n",
       "San Francisco       65.733608       51.241873"
      ]
     },
     "execution_count": 53,
     "metadata": {},
     "output_type": "execute_result"
    }
   ],
   "source": [
    "#2012-10-01-12:00:00 min\n",
    "#2017-11-30-00:00:00 max\n",
    "\n",
    "#isolate summer months and winter months in unique series\n",
    "summer_months = fahrenheit_conversion.loc[fahrenheit_conversion.index.month.isin([6,7,8])]\n",
    "winter_months = fahrenheit_conversion.loc[fahrenheit_conversion.index.month.isin([12,1,2])]\n",
    "\n",
    "#calculate mean of each series to find mean temperature for that season\n",
    "summer_months_avg = summer_months.mean()\n",
    "winter_months_avg = winter_months.mean()\n",
    "\n",
    "#create a new dataframe with summer and winter averages\n",
    "seasonal_avg_df = pd.concat(\n",
    "    [summer_months_avg.rename(\"Summer Average\"), \n",
    "     winter_months_avg.rename(\"Winter Average\")], axis=1)\n",
    "seasonal_avg_df.head(3)"
   ]
  },
  {
   "cell_type": "code",
   "execution_count": null,
   "id": "cc3b9588",
   "metadata": {},
   "outputs": [],
   "source": [
    "#create a loop that compares the summer avg \n",
    "for index, col in seasonal_avg_df['Summer Average']:\n",
    "    if "
   ]
  },
  {
   "cell_type": "markdown",
   "id": "2867414b",
   "metadata": {},
   "source": [
    "#### 6.\tFor two of the cities you found in question 5 (there are many possible answers), clean up the data via rolling averages and plot a clear visual. Explain how rolling average differs from moving average (MA) model."
   ]
  },
  {
   "cell_type": "code",
   "execution_count": null,
   "id": "e8613258",
   "metadata": {},
   "outputs": [],
   "source": []
  },
  {
   "cell_type": "markdown",
   "id": "c0e7d07b",
   "metadata": {},
   "source": [
    "#### 7.\tPerform SARIMA on five cities, iterating through the cities programmatically. Explain your results."
   ]
  },
  {
   "cell_type": "code",
   "execution_count": null,
   "id": "0155c795",
   "metadata": {},
   "outputs": [],
   "source": []
  },
  {
   "cell_type": "markdown",
   "id": "9d71ca16",
   "metadata": {},
   "source": [
    "#### a.\tGraph the predicted values 30 days out."
   ]
  },
  {
   "cell_type": "code",
   "execution_count": null,
   "id": "f569bbf9",
   "metadata": {},
   "outputs": [],
   "source": []
  },
  {
   "cell_type": "markdown",
   "id": "a9d7d8c6",
   "metadata": {},
   "source": [
    "#### 8.\tExplain what you see when you perform results.summary() on the cities in question 7. "
   ]
  },
  {
   "cell_type": "code",
   "execution_count": null,
   "id": "fe6ee89a",
   "metadata": {},
   "outputs": [],
   "source": []
  },
  {
   "cell_type": "markdown",
   "id": "e6f90fc6",
   "metadata": {},
   "source": [
    "#### DataCamp Certificate"
   ]
  },
  {
   "cell_type": "markdown",
   "id": "c58fd27d",
   "metadata": {},
   "source": []
  },
  {
   "cell_type": "markdown",
   "id": "1e332999",
   "metadata": {},
   "source": [
    "#### Bonus: What do GARCH and ARCH Stand for? Break down and explain each piece in the names. Explain the difference between the two. Create a GARCH and ARCH model on the same 5 cities from question 6. Explain and graph the results."
   ]
  },
  {
   "cell_type": "code",
   "execution_count": null,
   "id": "992774f5",
   "metadata": {},
   "outputs": [],
   "source": []
  }
 ],
 "metadata": {
  "kernelspec": {
   "display_name": "Python 3 (ipykernel)",
   "language": "python",
   "name": "python3"
  },
  "language_info": {
   "codemirror_mode": {
    "name": "ipython",
    "version": 3
   },
   "file_extension": ".py",
   "mimetype": "text/x-python",
   "name": "python",
   "nbconvert_exporter": "python",
   "pygments_lexer": "ipython3",
   "version": "3.9.7"
  }
 },
 "nbformat": 4,
 "nbformat_minor": 5
}
